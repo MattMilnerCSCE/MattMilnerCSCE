{
 "cells": [
  {
   "cell_type": "markdown",
   "metadata": {
    "id": "Gdr-ueUldM4E",
    "nbgrader": {
     "grade": false,
     "grade_id": "cell-6d0fb40523026b17",
     "locked": true,
     "schema_version": 3,
     "solution": false,
     "task": false
    }
   },
   "source": [
    "# CSCE 623 Homework Assignment HW0"
   ]
  },
  {
   "cell_type": "code",
   "execution_count": null,
   "metadata": {},
   "outputs": [],
   "source": []
  },
  {
   "cell_type": "code",
   "execution_count": null,
   "metadata": {},
   "outputs": [],
   "source": []
  },
  {
   "cell_type": "markdown",
   "metadata": {
    "id": "q7R9W9fBdsH_"
   },
   "source": [
    "### Student Name: < Matthew Milner >\n",
    "\n",
    "### Date: < 10 APR 2020 >"
   ]
  },
  {
   "cell_type": "code",
   "execution_count": 2,
   "metadata": {
    "id": "6NCxSHNUHzE1"
   },
   "outputs": [],
   "source": [
    "import pandas as pd\n",
    "import hashlib\n",
    "import json"
   ]
  },
  {
   "cell_type": "markdown",
   "metadata": {
    "id": "YxwQLzph0Dyi"
   },
   "source": [
    "## Disclosures\n",
    "\n",
    "This notebook will change the system configuration in the following ways:\n",
    "- Installs cartopy via pip"
   ]
  },
  {
   "cell_type": "markdown",
   "metadata": {
    "id": "jjsJmbLkPBX4"
   },
   "source": [
    "## Overview"
   ]
  },
  {
   "cell_type": "markdown",
   "metadata": {
    "id": "UEGAAVJJPHHN"
   },
   "source": [
    "## Discussion"
   ]
  },
  {
   "cell_type": "markdown",
   "metadata": {
    "id": "113P2OqPPTA-"
   },
   "source": [
    "### Notebook Commands"
   ]
  },
  {
   "cell_type": "markdown",
   "metadata": {
    "id": "Uqy0yFCa2SVA"
   },
   "source": [
    "If using Colab for development, your Jupyter notebook will run on a Google-provided server. The preconfiguration will provide a wealth of installed packages. If developing locally, the packages available will depend on your environment.\n",
    "\n",
    "The following code will enumerate the packages available."
   ]
  },
  {
   "cell_type": "code",
   "execution_count": 3,
   "metadata": {
    "colab": {
     "base_uri": "https://localhost:8080/"
    },
    "id": "okjblVnW16rw",
    "outputId": "59c4261a-afab-4479-f762-bfb43e79b3e3"
   },
   "outputs": [
    {
     "name": "stdout",
     "output_type": "stream",
     "text": [
      "['alabaster', 'anaconda-client', 'anaconda-navigator', 'anaconda-project', 'argh', 'argon2-cffi', '@', 'file:///C:/ci/argon2-cffi_1596828585465/work', 'asn1crypto', '@', 'file:///tmp/build/80754af9/asn1crypto_1596577642040/work', 'astroid', '@', 'file:///C:/ci/astroid_1592487315634/work', 'astropy', 'async-generator', 'atomicwrites', 'attrs', '@', 'file:///tmp/build/80754af9/attrs_1604765588209/work', 'autopep8', '@', 'file:///tmp/build/80754af9/autopep8_1596578164842/work', 'Babel', '@', 'file:///tmp/build/80754af9/babel_1605108370292/work', 'backcall', 'backports.functools-lru-cache', 'backports.shutil-get-terminal-size', 'backports.tempfile', 'backports.weakref', 'bcrypt', '@', 'file:///C:/ci/bcrypt_1597936263757/work', 'beautifulsoup4', '@', 'file:///tmp/build/80754af9/beautifulsoup4_1601924105527/work', 'bitarray', '@', 'file:///C:/ci/bitarray_1605065210072/work', 'bkcharts', 'bleach', '@', 'file:///tmp/build/80754af9/bleach_1600439572647/work', 'bokeh', '@', 'file:///C:/ci/bokeh_1603297934731/work', 'boto', 'Bottleneck', 'brotlipy', 'certifi', 'cffi', '@', 'file:///C:/ci/cffi_1600699246375/work', 'chardet', 'click', 'cloudpickle', '@', 'file:///tmp/build/80754af9/cloudpickle_1598884132938/work', 'clyent', 'colorama', '@', 'file:///tmp/build/80754af9/colorama_1603211150991/work', 'comtypes', 'conda', 'conda-build', 'conda-package-handling', '@', 'file:///C:/ci/conda-package-handling_1603003327818/work', 'conda-verify', 'contextlib2', 'cryptography', '@', 'file:///C:/ci/cryptography_1601046905460/work', 'cycler', 'Cython', '@', 'file:///C:/ci/cython_1594829190914/work', 'cytoolz', 'dask', '@', 'file:///tmp/build/80754af9/dask-core_1602083700509/work', 'decorator', 'defusedxml', 'diff-match-patch', '@', 'file:///tmp/build/80754af9/diff-match-patch_1594828741838/work', 'distributed', '@', 'file:///C:/ci/distributed_1605066635297/work', 'docutils', 'entrypoints', 'et-xmlfile', 'fastcache', 'filelock', 'flake8', '@', 'file:///tmp/build/80754af9/flake8_1601911421857/work', 'Flask', 'fsspec', '@', 'file:///tmp/build/80754af9/fsspec_1602684995936/work', 'future', 'gevent', '@', 'file:///C:/ci/gevent_1601397627942/work', 'glob2', 'greenlet', '@', 'file:///C:/ci/greenlet_1600885448389/work', 'h5py', 'HeapDict', 'html5lib', '@', 'file:///tmp/build/80754af9/html5lib_1593446221756/work', 'idna', '@', 'file:///tmp/build/80754af9/idna_1593446292537/work', 'imageio', '@', 'file:///tmp/build/80754af9/imageio_1594161405741/work', 'imagesize', 'importlib-metadata', '@', 'file:///tmp/build/80754af9/importlib-metadata_1602276842396/work', 'iniconfig', '@', 'file:///tmp/build/80754af9/iniconfig_1602780191262/work', 'intervaltree', '@', 'file:///tmp/build/80754af9/intervaltree_1598376443606/work', 'ipykernel', '@', 'file:///C:/ci/ipykernel_1596190155316/work/dist/ipykernel-5.3.4-py3-none-any.whl', 'ipython', '@', 'file:///C:/ci/ipython_1604083276484/work', 'ipython-genutils', 'ipywidgets', '@', 'file:///tmp/build/80754af9/ipywidgets_1601490159889/work', 'isort', '@', 'file:///tmp/build/80754af9/isort_1602603989581/work', 'itsdangerous', 'jdcal', 'jedi', '@', 'file:///C:/ci/jedi_1592833825077/work', 'Jinja2', 'joblib', '@', 'file:///tmp/build/80754af9/joblib_1601912903842/work', 'json5', 'jsonschema', '@', 'file:///tmp/build/80754af9/jsonschema_1602607155483/work', 'jupyter', 'jupyter-client', '@', 'file:///tmp/build/80754af9/jupyter_client_1601311786391/work', 'jupyter-console', '@', 'file:///tmp/build/80754af9/jupyter_console_1598884538475/work', 'jupyter-core', 'jupyterlab', 'jupyterlab-pygments', '@', 'file:///tmp/build/80754af9/jupyterlab_pygments_1601490720602/work', 'jupyterlab-server', '@', 'file:///tmp/build/80754af9/jupyterlab_server_1594164409481/work', 'keyring', '@', 'file:///C:/ci/keyring_1601489747083/work', 'kiwisolver', '@', 'file:///C:/ci/kiwisolver_1604014703538/work', 'lazy-object-proxy', 'libarchive-c', 'llvmlite', 'locket', 'lxml', '@', 'file:///C:/ci/lxml_1603216366346/work', 'MarkupSafe', 'matplotlib', '@', 'file:///C:/ci/matplotlib-base_1603355780617/work', 'mccabe', 'menuinst', 'mistune', 'mkl-fft', 'mkl-random', 'mkl-service', 'mock', 'more-itertools', '@', 'file:///tmp/build/80754af9/more-itertools_1605111547926/work', 'mpmath', 'msgpack', 'multipledispatch', 'navigator-updater', 'nbclient', '@', 'file:///tmp/build/80754af9/nbclient_1602783176460/work', 'nbconvert', '@', 'file:///C:/ci/nbconvert_1601914925608/work', 'nbformat', '@', 'file:///tmp/build/80754af9/nbformat_1602783287752/work', 'nest-asyncio', '@', 'file:///tmp/build/80754af9/nest-asyncio_1605115881283/work', 'networkx', '@', 'file:///tmp/build/80754af9/networkx_1598376031484/work', 'nltk', '@', 'file:///tmp/build/80754af9/nltk_1592496090529/work', 'nose', 'notebook', '@', 'file:///C:/ci/notebook_1601501643625/work', 'numba', 'numexpr', 'numpy', '@', 'file:///C:/ci/numpy_and_numpy_base_1603466732592/work', 'numpydoc', '@', 'file:///tmp/build/80754af9/numpydoc_1605117425582/work', 'olefile', 'openpyxl', '@', 'file:///tmp/build/80754af9/openpyxl_1598113097404/work', 'packaging', 'pandas', '@', 'file:///C:/ci/pandas_1602083338010/work', 'pandocfilters', '@', 'file:///C:/ci/pandocfilters_1605102497129/work', 'paramiko', '@', 'file:///tmp/build/80754af9/paramiko_1598886428689/work', 'parso', 'partd', 'path', '@', 'file:///C:/ci/path_1598358556930/work', 'pathlib2', 'pathtools', 'patsy', 'pep8', 'pexpect', 'pickleshare', 'Pillow', '@', 'file:///C:/ci/pillow_1603823068645/work', 'pkginfo', 'pluggy', 'ply', 'prometheus-client', 'prompt-toolkit', '@', 'file:///tmp/build/80754af9/prompt-toolkit_1602688806899/work', 'psutil', '@', 'file:///C:/ci/psutil_1598370330503/work', 'py', '@', 'file:///tmp/build/80754af9/py_1593446248552/work', 'pycodestyle', 'pycosat', 'pycparser', '@', 'file:///tmp/build/80754af9/pycparser_1594388511720/work', 'pycurl', 'pydocstyle', '@', 'file:///tmp/build/80754af9/pydocstyle_1598885001695/work', 'pyflakes', 'Pygments', '@', 'file:///tmp/build/80754af9/pygments_1604103097372/work', 'pylint', '@', 'file:///C:/ci/pylint_1598617153160/work', 'PyNaCl', '@', 'file:///C:/ci/pynacl_1595000047588/work', 'pyodbc', 'pyOpenSSL', '@', 'file:///tmp/build/80754af9/pyopenssl_1594392929924/work', 'pyparsing', 'pyreadline', 'pyrsistent', '@', 'file:///C:/ci/pyrsistent_1600141795814/work', 'PySocks', 'pytest', 'python-dateutil', 'python-jsonrpc-server', '@', 'file:///tmp/build/80754af9/python-jsonrpc-server_1600278539111/work', 'python-language-server', '@', 'file:///tmp/build/80754af9/python-language-server_1600454544709/work', 'pytz', 'PyWavelets', '@', 'file:///C:/ci/pywavelets_1601658407916/work', 'pywin32', 'pywin32-ctypes', 'pywinpty', 'PyYAML', 'pyzmq', 'QDarkStyle', 'QtAwesome', '@', 'file:///tmp/build/80754af9/qtawesome_1602272867890/work', 'qtconsole', '@', 'file:///tmp/build/80754af9/qtconsole_1600870028330/work', 'QtPy', 'regex', '@', 'file:///C:/ci/regex_1602770567298/work', 'requests', '@', 'file:///tmp/build/80754af9/requests_1592841827918/work', 'rope', '@', 'file:///tmp/build/80754af9/rope_1602264064449/work', 'Rtree', 'ruamel-yaml', 'scikit-image', 'scikit-learn', '@', 'file:///C:/ci/scikit-learn_1598377018496/work', 'scipy', '@', 'file:///C:/ci/scipy_1604596260408/work', 'seaborn', '@', 'file:///tmp/build/80754af9/seaborn_1600553570093/work', 'Send2Trash', 'simplegeneric', 'singledispatch', '@', 'file:///tmp/build/80754af9/singledispatch_1602523705405/work', 'sip', 'six', '@', 'file:///C:/ci/six_1605187374963/work', 'snowballstemmer', 'sortedcollections', 'sortedcontainers', 'soupsieve', 'Sphinx', '@', 'file:///tmp/build/80754af9/sphinx_1597428793432/work', 'sphinxcontrib-applehelp', 'sphinxcontrib-devhelp', 'sphinxcontrib-htmlhelp', 'sphinxcontrib-jsmath', 'sphinxcontrib-qthelp', 'sphinxcontrib-serializinghtml', 'sphinxcontrib-websupport', '@', 'file:///tmp/build/80754af9/sphinxcontrib-websupport_1597081412696/work', 'spyder', '@', 'file:///C:/ci/spyder_1599054115447/work', 'spyder-kernels', '@', 'file:///C:/ci/spyder-kernels_1599051709837/work', 'SQLAlchemy', '@', 'file:///C:/ci/sqlalchemy_1603818908746/work', 'statsmodels', 'sympy', '@', 'file:///C:/ci/sympy_1605101511098/work', 'tables', 'tblib', '@', 'file:///tmp/build/80754af9/tblib_1597928476713/work', 'terminado', 'testpath', 'threadpoolctl', '@', 'file:///tmp/tmp9twdgx9k/threadpoolctl-2.1.0-py3-none-any.whl', 'tifffile', 'toml', '@', 'file:///tmp/build/80754af9/toml_1592853716807/work', 'toolz', '@', 'file:///tmp/build/80754af9/toolz_1601054250827/work', 'tornado', 'tqdm', '@', 'file:///tmp/build/80754af9/tqdm_1602185206534/work', 'traitlets', '@', 'file:///tmp/build/80754af9/traitlets_1602787416690/work', 'typing-extensions', '@', 'file:///tmp/build/80754af9/typing_extensions_1598376058250/work', 'ujson', '@', 'file:///C:/ci/ujson_1602505266082/work', 'unicodecsv', 'urllib3', '@', 'file:///tmp/build/80754af9/urllib3_1603305693037/work', 'watchdog', '@', 'file:///C:/ci/watchdog_1593447437088/work', 'wcwidth', '@', 'file:///tmp/build/80754af9/wcwidth_1593447189090/work', 'webencodings', 'Werkzeug', 'widgetsnbextension', 'win-inet-pton', 'win-unicode-console', 'wincertstore', 'wrapt', 'xlrd', 'XlsxWriter', '@', 'file:///tmp/build/80754af9/xlsxwriter_1602692860603/work', 'xlwings', 'xlwt', 'xmltodict', 'yapf', '@', 'file:///tmp/build/80754af9/yapf_1593528177422/work', 'zict', 'zipp', '@', 'file:///tmp/build/80754af9/zipp_1604001098328/work', 'zope.event', 'zope.interface', '@', 'file:///C:/ci/zope.interface_1602002494740/work']\n"
     ]
    }
   ],
   "source": [
    "import subprocess\n",
    "import sys\n",
    "\n",
    "reqs = subprocess.check_output([sys.executable, '-m', 'pip', 'freeze'])\n",
    "installed_packages = [r.decode().split('==')[0] for r in reqs.split()]\n",
    "\n",
    "print(installed_packages)"
   ]
  },
  {
   "cell_type": "markdown",
   "metadata": {
    "id": "SSuID5iR3l4n"
   },
   "source": [
    "You may install additional packages directly from within the notebook. If developing locally, you could install additional packages directly in your environment instead of installing them using the notebook. However, your notebook is more portable if you install packages within the notebook itself."
   ]
  },
  {
   "cell_type": "code",
   "execution_count": 4,
   "metadata": {
    "colab": {
     "base_uri": "https://localhost:8080/"
    },
    "id": "oPSe72cU3ug9",
    "outputId": "222dd771-041a-4f3d-cc64-586a1674eb00"
   },
   "outputs": [
    {
     "name": "stdout",
     "output_type": "stream",
     "text": [
      "Collecting cartopy\n",
      "  Downloading Cartopy-0.18.0.tar.gz (14.4 MB)\n",
      "Note: you may need to restart the kernel to use updated packages.\n"
     ]
    },
    {
     "name": "stderr",
     "output_type": "stream",
     "text": [
      "    ERROR: Command errored out with exit status 1:\n",
      "     command: 'C:\\Users\\mattm\\anaconda3\\python.exe' -c 'import sys, setuptools, tokenize; sys.argv[0] = '\"'\"'C:\\\\Users\\\\mattm\\\\AppData\\\\Local\\\\Temp\\\\pip-install-e2se8ryo\\\\cartopy\\\\setup.py'\"'\"'; __file__='\"'\"'C:\\\\Users\\\\mattm\\\\AppData\\\\Local\\\\Temp\\\\pip-install-e2se8ryo\\\\cartopy\\\\setup.py'\"'\"';f=getattr(tokenize, '\"'\"'open'\"'\"', open)(__file__);code=f.read().replace('\"'\"'\\r\\n'\"'\"', '\"'\"'\\n'\"'\"');f.close();exec(compile(code, __file__, '\"'\"'exec'\"'\"'))' egg_info --egg-base 'C:\\Users\\mattm\\AppData\\Local\\Temp\\pip-pip-egg-info-sj8fy9p1'\n",
      "         cwd: C:\\Users\\mattm\\AppData\\Local\\Temp\\pip-install-e2se8ryo\\cartopy\\\n",
      "    Complete output (3 lines):\n",
      "    C:\\Users\\mattm\\AppData\\Local\\Temp\\pip-install-e2se8ryo\\cartopy\\setup.py:104: UserWarning: Unable to determine GEOS version. Ensure you have 3.3.3 or later installed, or installation may fail.\n",
      "      warnings.warn(\n",
      "    Proj 4.9.0 must be installed.\n",
      "    ----------------------------------------\n",
      "ERROR: Command errored out with exit status 1: python setup.py egg_info Check the logs for full command output.\n"
     ]
    }
   ],
   "source": [
    "%pip install cartopy"
   ]
  },
  {
   "cell_type": "markdown",
   "metadata": {
    "id": "zUJ8B01B8ynt"
   },
   "source": [
    "You can also execute Linux system commands from within the notebook. Refer to [the IPython System Commands tutorial at www.tutorialspoint.com](https://www.tutorialspoint.com/jupyter/ipython_system_commands.htm) and use the following cell to explore using system commands. Try the following:\n",
    "\n",
    "- display the name of the current working directory\n",
    "- list the folder contents"
   ]
  },
  {
   "cell_type": "code",
   "execution_count": null,
   "metadata": {
    "id": "tVVLQUef_hR7"
   },
   "outputs": [],
   "source": []
  },
  {
   "cell_type": "markdown",
   "metadata": {
    "id": "3pQ5_inDAiUh"
   },
   "source": [
    "Jupyter notebooks also includes magic commands. Read more about magic commands [at the IPython Magic Commands tutorial at www.tutorialspoint.com](https://www.tutorialspoint.com/jupyter/ipython_magic_commands.htm).\n",
    "\n",
    "Experiment with magic commands below. Try the following:\n",
    "- display the name of the current working directory\n",
    "- list the folder contents\n",
    "- create a directory\n",
    "- change the current directory to the directory you just created\n",
    "- assign the name of the present working directory to a Python variable"
   ]
  },
  {
   "cell_type": "code",
   "execution_count": null,
   "metadata": {
    "id": "g6le4Cjn4_Lm"
   },
   "outputs": [],
   "source": []
  },
  {
   "cell_type": "markdown",
   "metadata": {
    "id": "sW15DtxoCAm5"
   },
   "source": [
    "## Required Activities"
   ]
  },
  {
   "cell_type": "markdown",
   "metadata": {
    "id": "gpkiVuXWPUbc"
   },
   "source": [
    "### STEP 1"
   ]
  },
  {
   "cell_type": "markdown",
   "metadata": {
    "id": "jdPlT5qnDfvv"
   },
   "source": [
    "Often, you'll use datasets in your notebooks. You can use a notebook to import the dataset into your environment. If developing locally, you can import datasets directly in your development environment, but importing datasets from within your notebook improves its portability. \n",
    "\n",
    "1. Using the `wget` system command (or a suitable alternative for your environment), download the housing dataset used in several chapters of the _Hands-On Machine Learning_ text (_HOML_). The URL of the datasetet is `https://raw.githubusercontent.com/ageron/handson-ml2/master/datasets/housing/housing.csv`.\n",
    "2. Using `pandas`, save the dataset into a pandas dataframe variable named `data`."
   ]
  },
  {
   "cell_type": "code",
   "execution_count": null,
   "metadata": {
    "id": "WndVIXHDHJxT"
   },
   "outputs": [],
   "source": [
    "#STEP 1\n",
    "\n",
    "#STUDENT CODE - insert code to import housing.csv using wget, then use pandas to store the data in a dataframe called 'df'\n",
    "#---------------------------------------------\n",
    "\n",
    "\n",
    "#---------------------------------------------\n",
    "# After defining df, uncomment the following lines and examine dataset\n",
    "#df.describe()\n",
    "#df.head\n",
    "\n",
    "# comment out the following or change value to True to test Step 1\n",
    "STEP_1_COMPLETE = False"
   ]
  },
  {
   "cell_type": "markdown",
   "metadata": {
    "id": "Lv4c3PBTPWDn"
   },
   "source": [
    "### STEP 2"
   ]
  },
  {
   "cell_type": "markdown",
   "metadata": {
    "id": "rJAW4dazI2H3"
   },
   "source": [
    "Answer the questions below:\n",
    "\n",
    "- What is the airspeed velocity of an unladen swallow?\n",
    "- What is the answer to the ultimate question of life, the universe, and everything?"
   ]
  },
  {
   "cell_type": "code",
   "execution_count": null,
   "metadata": {
    "id": "RJ-U8hNwzzT6"
   },
   "outputs": [],
   "source": [
    "# comment out the following or change value to True to complete Step 2\n",
    "STEP_2_COMPLETE = False"
   ]
  },
  {
   "cell_type": "markdown",
   "metadata": {
    "id": "DUQWq0rZPXSa"
   },
   "source": [
    "### STEP 3"
   ]
  },
  {
   "cell_type": "markdown",
   "metadata": {
    "id": "ER1K4e6Dz9vG"
   },
   "source": [
    "Update the [disclosures](#scrollTo=YxwQLzph0Dyi) section above, enumerating the specific ways that this notebook will change the system configuration. You are providing this cell as a courtesy to a potential user to advise on which packages might be installed, directories created or removed, files downloaded, etc.\n",
    "\n",
    "The original code does the following:\n",
    "- installs the cartopy package\n",
    "\n",
    "\n",
    "Expand the current list with any directories or files that your final version of the code creates, modifies, or deletes."
   ]
  },
  {
   "cell_type": "code",
   "execution_count": null,
   "metadata": {
    "id": "4qaV8i9705ON"
   },
   "outputs": [],
   "source": [
    "# comment out the following or change value to True to complete Step 3\n",
    "STEP_3_COMPLETE = False"
   ]
  },
  {
   "cell_type": "markdown",
   "metadata": {
    "id": "Gh9I94-C-Lpy"
   },
   "source": [
    "### STEP 4"
   ]
  },
  {
   "cell_type": "markdown",
   "metadata": {
    "id": "cpUIMYEr-OFG"
   },
   "source": [
    "After completing the above steps and satisfying yourself using the test cases, [upload this file to Canvas](https://lms.au.af.edu/courses/23009/assignments/191311). "
   ]
  },
  {
   "cell_type": "markdown",
   "metadata": {
    "id": "d1DnK-WqPj0q"
   },
   "source": [
    "## Helpful Hints"
   ]
  },
  {
   "cell_type": "markdown",
   "metadata": {
    "id": "MqVP0xWKPr_Z"
   },
   "source": [
    "- Auto testing is available in github. As you complete steps, commit this file to your GitHub repository. GitHub will run automated tests to verify your code. GitHub will not validate your text answers or plots.\n",
    "  - If you're using Colab by Google, you'll need to save to GitHub (File -> Save a Copy to GitHub)\n",
    "  - If you're developing on a local notebook, you'll need to commit your changes locally and push to your remote GitHub repository"
   ]
  }
 ],
 "metadata": {
  "colab": {
   "collapsed_sections": [],
   "name": "hw0.ipynb",
   "provenance": [],
   "toc_visible": true
  },
  "kernelspec": {
   "display_name": "Python 3",
   "language": "python",
   "name": "python3"
  },
  "language_info": {
   "codemirror_mode": {
    "name": "ipython",
    "version": 3
   },
   "file_extension": ".py",
   "mimetype": "text/x-python",
   "name": "python",
   "nbconvert_exporter": "python",
   "pygments_lexer": "ipython3",
   "version": "3.8.5"
  }
 },
 "nbformat": 4,
 "nbformat_minor": 1
}
